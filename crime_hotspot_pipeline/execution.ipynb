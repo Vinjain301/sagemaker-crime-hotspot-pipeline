{
 "cells": [
  {
   "cell_type": "code",
   "execution_count": 1,
   "id": "855f0aa7-0c7f-4303-a9c2-13e5c1717d7c",
   "metadata": {
    "execution": {
     "iopub.execute_input": "2025-07-09T16:59:11.795393Z",
     "iopub.status.busy": "2025-07-09T16:59:11.794866Z",
     "iopub.status.idle": "2025-07-09T16:59:11.799605Z",
     "shell.execute_reply": "2025-07-09T16:59:11.798972Z",
     "shell.execute_reply.started": "2025-07-09T16:59:11.795360Z"
    }
   },
   "outputs": [
    {
     "name": "stdout",
     "output_type": "stream",
     "text": [
      "Current working directory: /home/sagemaker-user/crime_hotspot_pipeline\n"
     ]
    }
   ],
   "source": [
    "import os\n",
    "\n",
    "os.chdir(\"/home/sagemaker-user/crime_hotspot_pipeline\")\n",
    "print(\"Current working directory:\", os.getcwd())"
   ]
  },
  {
   "cell_type": "code",
   "execution_count": 2,
   "id": "27b51473-3734-463e-a998-c8900541c7aa",
   "metadata": {
    "execution": {
     "iopub.execute_input": "2025-07-09T16:59:11.801371Z",
     "iopub.status.busy": "2025-07-09T16:59:11.800850Z",
     "iopub.status.idle": "2025-07-09T16:59:14.311672Z",
     "shell.execute_reply": "2025-07-09T16:59:14.310886Z",
     "shell.execute_reply.started": "2025-07-09T16:59:11.801340Z"
    }
   },
   "outputs": [
    {
     "name": "stdout",
     "output_type": "stream",
     "text": [
      "Requirement already satisfied: pandas>=1.3.0 in /opt/conda/lib/python3.12/site-packages (from -r requirements.txt (line 2)) (2.2.3)\n",
      "Requirement already satisfied: numpy>=1.21.0 in /opt/conda/lib/python3.12/site-packages (from -r requirements.txt (line 3)) (1.26.4)\n",
      "Requirement already satisfied: scikit-learn>=1.0.0 in /opt/conda/lib/python3.12/site-packages (from -r requirements.txt (line 4)) (1.6.1)\n",
      "Requirement already satisfied: boto3>=1.18.0 in /opt/conda/lib/python3.12/site-packages (from -r requirements.txt (line 5)) (1.37.1)\n",
      "Requirement already satisfied: pyyaml>=5.4.0 in /opt/conda/lib/python3.12/site-packages (from -r requirements.txt (line 6)) (6.0.2)\n",
      "Requirement already satisfied: xgboost>=1.5.0 in /opt/conda/lib/python3.12/site-packages (from -r requirements.txt (line 9)) (2.1.4)\n",
      "Requirement already satisfied: catboost>=1.0.0 in /opt/conda/lib/python3.12/site-packages (from -r requirements.txt (line 10)) (1.2.7)\n",
      "Requirement already satisfied: imbalanced-learn>=0.8.0 in /opt/conda/lib/python3.12/site-packages (from -r requirements.txt (line 11)) (0.13.0)\n",
      "Requirement already satisfied: geopandas>=0.10.0 in /opt/conda/lib/python3.12/site-packages (from -r requirements.txt (line 14)) (1.1.1)\n",
      "Requirement already satisfied: holidays>=0.13 in /opt/conda/lib/python3.12/site-packages (from -r requirements.txt (line 17)) (0.75)\n",
      "Requirement already satisfied: matplotlib>=3.4.0 in /opt/conda/lib/python3.12/site-packages (from -r requirements.txt (line 20)) (3.10.3)\n",
      "Requirement already satisfied: seaborn>=0.11.0 in /opt/conda/lib/python3.12/site-packages (from -r requirements.txt (line 21)) (0.13.2)\n",
      "Requirement already satisfied: sagemaker>=2.100.0 in /opt/conda/lib/python3.12/site-packages (from -r requirements.txt (line 24)) (2.245.0)\n",
      "Requirement already satisfied: jupyter>=1.0.0 in /opt/conda/lib/python3.12/site-packages (from -r requirements.txt (line 31)) (1.1.1)\n",
      "Requirement already satisfied: pytest>=6.2.0 in /opt/conda/lib/python3.12/site-packages (from -r requirements.txt (line 32)) (8.3.5)\n",
      "Requirement already satisfied: black>=21.0 in /opt/conda/lib/python3.12/site-packages (from -r requirements.txt (line 33)) (25.1.0)\n",
      "Requirement already satisfied: flake8>=3.9.0 in /opt/conda/lib/python3.12/site-packages (from -r requirements.txt (line 34)) (7.1.2)\n",
      "Requirement already satisfied: mypy>=0.900 in /opt/conda/lib/python3.12/site-packages (from -r requirements.txt (line 35)) (1.16.1)\n",
      "Requirement already satisfied: python-dateutil>=2.8.2 in /opt/conda/lib/python3.12/site-packages (from pandas>=1.3.0->-r requirements.txt (line 2)) (2.9.0.post0)\n",
      "Requirement already satisfied: pytz>=2020.1 in /opt/conda/lib/python3.12/site-packages (from pandas>=1.3.0->-r requirements.txt (line 2)) (2024.2)\n",
      "Requirement already satisfied: tzdata>=2022.7 in /opt/conda/lib/python3.12/site-packages (from pandas>=1.3.0->-r requirements.txt (line 2)) (2025.2)\n",
      "Requirement already satisfied: scipy>=1.6.0 in /opt/conda/lib/python3.12/site-packages (from scikit-learn>=1.0.0->-r requirements.txt (line 4)) (1.15.2)\n",
      "Requirement already satisfied: joblib>=1.2.0 in /opt/conda/lib/python3.12/site-packages (from scikit-learn>=1.0.0->-r requirements.txt (line 4)) (1.5.1)\n",
      "Requirement already satisfied: threadpoolctl>=3.1.0 in /opt/conda/lib/python3.12/site-packages (from scikit-learn>=1.0.0->-r requirements.txt (line 4)) (3.6.0)\n",
      "Requirement already satisfied: botocore<1.38.0,>=1.37.1 in /opt/conda/lib/python3.12/site-packages (from boto3>=1.18.0->-r requirements.txt (line 5)) (1.37.1)\n",
      "Requirement already satisfied: jmespath<2.0.0,>=0.7.1 in /opt/conda/lib/python3.12/site-packages (from boto3>=1.18.0->-r requirements.txt (line 5)) (1.0.1)\n",
      "Requirement already satisfied: s3transfer<0.12.0,>=0.11.0 in /opt/conda/lib/python3.12/site-packages (from boto3>=1.18.0->-r requirements.txt (line 5)) (0.11.3)\n",
      "Requirement already satisfied: urllib3!=2.2.0,<3,>=1.25.4 in /opt/conda/lib/python3.12/site-packages (from botocore<1.38.0,>=1.37.1->boto3>=1.18.0->-r requirements.txt (line 5)) (1.26.19)\n",
      "Requirement already satisfied: six>=1.5 in /opt/conda/lib/python3.12/site-packages (from python-dateutil>=2.8.2->pandas>=1.3.0->-r requirements.txt (line 2)) (1.17.0)\n",
      "Requirement already satisfied: graphviz in /opt/conda/lib/python3.12/site-packages (from catboost>=1.0.0->-r requirements.txt (line 10)) (0.20.3)\n",
      "Requirement already satisfied: plotly in /opt/conda/lib/python3.12/site-packages (from catboost>=1.0.0->-r requirements.txt (line 10)) (6.1.2)\n",
      "Requirement already satisfied: sklearn-compat<1,>=0.1 in /opt/conda/lib/python3.12/site-packages (from imbalanced-learn>=0.8.0->-r requirements.txt (line 11)) (0.1.3)\n",
      "Requirement already satisfied: pyogrio>=0.7.2 in /opt/conda/lib/python3.12/site-packages (from geopandas>=0.10.0->-r requirements.txt (line 14)) (0.11.0)\n",
      "Requirement already satisfied: packaging in /opt/conda/lib/python3.12/site-packages (from geopandas>=0.10.0->-r requirements.txt (line 14)) (24.2)\n",
      "Requirement already satisfied: pyproj>=3.5.0 in /opt/conda/lib/python3.12/site-packages (from geopandas>=0.10.0->-r requirements.txt (line 14)) (3.7.1)\n",
      "Requirement already satisfied: shapely>=2.0.0 in /opt/conda/lib/python3.12/site-packages (from geopandas>=0.10.0->-r requirements.txt (line 14)) (2.1.1)\n",
      "Requirement already satisfied: contourpy>=1.0.1 in /opt/conda/lib/python3.12/site-packages (from matplotlib>=3.4.0->-r requirements.txt (line 20)) (1.3.2)\n",
      "Requirement already satisfied: cycler>=0.10 in /opt/conda/lib/python3.12/site-packages (from matplotlib>=3.4.0->-r requirements.txt (line 20)) (0.12.1)\n",
      "Requirement already satisfied: fonttools>=4.22.0 in /opt/conda/lib/python3.12/site-packages (from matplotlib>=3.4.0->-r requirements.txt (line 20)) (4.58.1)\n",
      "Requirement already satisfied: kiwisolver>=1.3.1 in /opt/conda/lib/python3.12/site-packages (from matplotlib>=3.4.0->-r requirements.txt (line 20)) (1.4.8)\n",
      "Requirement already satisfied: pillow>=8 in /opt/conda/lib/python3.12/site-packages (from matplotlib>=3.4.0->-r requirements.txt (line 20)) (11.2.1)\n",
      "Requirement already satisfied: pyparsing>=2.3.1 in /opt/conda/lib/python3.12/site-packages (from matplotlib>=3.4.0->-r requirements.txt (line 20)) (3.2.3)\n",
      "Requirement already satisfied: attrs<24,>=23.1.0 in /opt/conda/lib/python3.12/site-packages (from sagemaker>=2.100.0->-r requirements.txt (line 24)) (23.2.0)\n",
      "Requirement already satisfied: cloudpickle>=2.2.1 in /opt/conda/lib/python3.12/site-packages (from sagemaker>=2.100.0->-r requirements.txt (line 24)) (3.1.1)\n",
      "Requirement already satisfied: docker in /opt/conda/lib/python3.12/site-packages (from sagemaker>=2.100.0->-r requirements.txt (line 24)) (7.1.0)\n",
      "Requirement already satisfied: fastapi in /opt/conda/lib/python3.12/site-packages (from sagemaker>=2.100.0->-r requirements.txt (line 24)) (0.115.12)\n",
      "Requirement already satisfied: google-pasta in /opt/conda/lib/python3.12/site-packages (from sagemaker>=2.100.0->-r requirements.txt (line 24)) (0.2.0)\n",
      "Requirement already satisfied: graphene<4,>=3 in /opt/conda/lib/python3.12/site-packages (from sagemaker>=2.100.0->-r requirements.txt (line 24)) (3.4.3)\n",
      "Requirement already satisfied: importlib-metadata<7.0,>=1.4.0 in /opt/conda/lib/python3.12/site-packages (from sagemaker>=2.100.0->-r requirements.txt (line 24)) (6.10.0)\n",
      "Requirement already satisfied: jsonschema in /opt/conda/lib/python3.12/site-packages (from sagemaker>=2.100.0->-r requirements.txt (line 24)) (4.23.0)\n",
      "Requirement already satisfied: omegaconf<3,>=2.2 in /opt/conda/lib/python3.12/site-packages (from sagemaker>=2.100.0->-r requirements.txt (line 24)) (2.3.0)\n",
      "Requirement already satisfied: pathos in /opt/conda/lib/python3.12/site-packages (from sagemaker>=2.100.0->-r requirements.txt (line 24)) (0.3.4)\n",
      "Requirement already satisfied: platformdirs in /opt/conda/lib/python3.12/site-packages (from sagemaker>=2.100.0->-r requirements.txt (line 24)) (4.3.8)\n",
      "Requirement already satisfied: protobuf<6.0,>=3.12 in /opt/conda/lib/python3.12/site-packages (from sagemaker>=2.100.0->-r requirements.txt (line 24)) (5.28.3)\n",
      "Requirement already satisfied: psutil in /opt/conda/lib/python3.12/site-packages (from sagemaker>=2.100.0->-r requirements.txt (line 24)) (5.9.8)\n",
      "Requirement already satisfied: requests in /opt/conda/lib/python3.12/site-packages (from sagemaker>=2.100.0->-r requirements.txt (line 24)) (2.32.3)\n",
      "Requirement already satisfied: sagemaker-core<2.0.0,>=1.0.17 in /opt/conda/lib/python3.12/site-packages (from sagemaker>=2.100.0->-r requirements.txt (line 24)) (1.0.35)\n",
      "Requirement already satisfied: schema in /opt/conda/lib/python3.12/site-packages (from sagemaker>=2.100.0->-r requirements.txt (line 24)) (0.7.7)\n",
      "Requirement already satisfied: smdebug-rulesconfig==1.0.1 in /opt/conda/lib/python3.12/site-packages (from sagemaker>=2.100.0->-r requirements.txt (line 24)) (1.0.1)\n",
      "Requirement already satisfied: tblib<4,>=1.7.0 in /opt/conda/lib/python3.12/site-packages (from sagemaker>=2.100.0->-r requirements.txt (line 24)) (3.1.0)\n",
      "Requirement already satisfied: tqdm in /opt/conda/lib/python3.12/site-packages (from sagemaker>=2.100.0->-r requirements.txt (line 24)) (4.67.1)\n",
      "Requirement already satisfied: uvicorn in /opt/conda/lib/python3.12/site-packages (from sagemaker>=2.100.0->-r requirements.txt (line 24)) (0.34.2)\n",
      "Requirement already satisfied: graphql-core<3.3,>=3.1 in /opt/conda/lib/python3.12/site-packages (from graphene<4,>=3->sagemaker>=2.100.0->-r requirements.txt (line 24)) (3.2.6)\n",
      "Requirement already satisfied: graphql-relay<3.3,>=3.1 in /opt/conda/lib/python3.12/site-packages (from graphene<4,>=3->sagemaker>=2.100.0->-r requirements.txt (line 24)) (3.2.0)\n",
      "Requirement already satisfied: typing-extensions<5,>=4.7.1 in /opt/conda/lib/python3.12/site-packages (from graphene<4,>=3->sagemaker>=2.100.0->-r requirements.txt (line 24)) (4.13.2)\n",
      "Requirement already satisfied: zipp>=0.5 in /opt/conda/lib/python3.12/site-packages (from importlib-metadata<7.0,>=1.4.0->sagemaker>=2.100.0->-r requirements.txt (line 24)) (3.22.0)\n",
      "Requirement already satisfied: antlr4-python3-runtime==4.9.* in /opt/conda/lib/python3.12/site-packages (from omegaconf<3,>=2.2->sagemaker>=2.100.0->-r requirements.txt (line 24)) (4.9.3)\n",
      "Requirement already satisfied: pydantic<3.0.0,>=2.0.0 in /opt/conda/lib/python3.12/site-packages (from sagemaker-core<2.0.0,>=1.0.17->sagemaker>=2.100.0->-r requirements.txt (line 24)) (2.11.4)\n",
      "Requirement already satisfied: rich<15.0.0,>=14.0.0 in /opt/conda/lib/python3.12/site-packages (from sagemaker-core<2.0.0,>=1.0.17->sagemaker>=2.100.0->-r requirements.txt (line 24)) (14.0.0)\n",
      "Requirement already satisfied: mock<5.0,>4.0 in /opt/conda/lib/python3.12/site-packages (from sagemaker-core<2.0.0,>=1.0.17->sagemaker>=2.100.0->-r requirements.txt (line 24)) (4.0.3)\n",
      "Requirement already satisfied: jsonschema-specifications>=2023.03.6 in /opt/conda/lib/python3.12/site-packages (from jsonschema->sagemaker>=2.100.0->-r requirements.txt (line 24)) (2025.4.1)\n",
      "Requirement already satisfied: referencing>=0.28.4 in /opt/conda/lib/python3.12/site-packages (from jsonschema->sagemaker>=2.100.0->-r requirements.txt (line 24)) (0.36.2)\n",
      "Requirement already satisfied: rpds-py>=0.7.1 in /opt/conda/lib/python3.12/site-packages (from jsonschema->sagemaker>=2.100.0->-r requirements.txt (line 24)) (0.25.1)\n",
      "Requirement already satisfied: annotated-types>=0.6.0 in /opt/conda/lib/python3.12/site-packages (from pydantic<3.0.0,>=2.0.0->sagemaker-core<2.0.0,>=1.0.17->sagemaker>=2.100.0->-r requirements.txt (line 24)) (0.7.0)\n",
      "Requirement already satisfied: pydantic-core==2.33.2 in /opt/conda/lib/python3.12/site-packages (from pydantic<3.0.0,>=2.0.0->sagemaker-core<2.0.0,>=1.0.17->sagemaker>=2.100.0->-r requirements.txt (line 24)) (2.33.2)\n",
      "Requirement already satisfied: typing-inspection>=0.4.0 in /opt/conda/lib/python3.12/site-packages (from pydantic<3.0.0,>=2.0.0->sagemaker-core<2.0.0,>=1.0.17->sagemaker>=2.100.0->-r requirements.txt (line 24)) (0.4.1)\n",
      "Requirement already satisfied: markdown-it-py>=2.2.0 in /opt/conda/lib/python3.12/site-packages (from rich<15.0.0,>=14.0.0->sagemaker-core<2.0.0,>=1.0.17->sagemaker>=2.100.0->-r requirements.txt (line 24)) (3.0.0)\n",
      "Requirement already satisfied: pygments<3.0.0,>=2.13.0 in /opt/conda/lib/python3.12/site-packages (from rich<15.0.0,>=14.0.0->sagemaker-core<2.0.0,>=1.0.17->sagemaker>=2.100.0->-r requirements.txt (line 24)) (2.19.1)\n",
      "Requirement already satisfied: notebook in /opt/conda/lib/python3.12/site-packages (from jupyter>=1.0.0->-r requirements.txt (line 31)) (7.4.3)\n",
      "Requirement already satisfied: jupyter-console in /opt/conda/lib/python3.12/site-packages (from jupyter>=1.0.0->-r requirements.txt (line 31)) (6.6.3)\n",
      "Requirement already satisfied: nbconvert in /opt/conda/lib/python3.12/site-packages (from jupyter>=1.0.0->-r requirements.txt (line 31)) (7.16.6)\n",
      "Requirement already satisfied: ipykernel in /opt/conda/lib/python3.12/site-packages (from jupyter>=1.0.0->-r requirements.txt (line 31)) (6.29.5)\n",
      "Requirement already satisfied: ipywidgets in /opt/conda/lib/python3.12/site-packages (from jupyter>=1.0.0->-r requirements.txt (line 31)) (8.1.7)\n",
      "Requirement already satisfied: jupyterlab in /opt/conda/lib/python3.12/site-packages (from jupyter>=1.0.0->-r requirements.txt (line 31)) (4.4.3)\n",
      "Requirement already satisfied: iniconfig in /opt/conda/lib/python3.12/site-packages (from pytest>=6.2.0->-r requirements.txt (line 32)) (2.0.0)\n",
      "Requirement already satisfied: pluggy<2,>=1.5 in /opt/conda/lib/python3.12/site-packages (from pytest>=6.2.0->-r requirements.txt (line 32)) (1.6.0)\n",
      "Requirement already satisfied: click>=8.0.0 in /opt/conda/lib/python3.12/site-packages (from black>=21.0->-r requirements.txt (line 33)) (8.2.1)\n",
      "Requirement already satisfied: mypy-extensions>=0.4.3 in /opt/conda/lib/python3.12/site-packages (from black>=21.0->-r requirements.txt (line 33)) (1.1.0)\n",
      "Requirement already satisfied: pathspec>=0.9.0 in /opt/conda/lib/python3.12/site-packages (from black>=21.0->-r requirements.txt (line 33)) (0.12.1)\n",
      "Requirement already satisfied: mccabe<0.8.0,>=0.7.0 in /opt/conda/lib/python3.12/site-packages (from flake8>=3.9.0->-r requirements.txt (line 34)) (0.7.0)\n",
      "Requirement already satisfied: pycodestyle<2.13.0,>=2.12.0 in /opt/conda/lib/python3.12/site-packages (from flake8>=3.9.0->-r requirements.txt (line 34)) (2.12.1)\n",
      "Requirement already satisfied: pyflakes<3.3.0,>=3.2.0 in /opt/conda/lib/python3.12/site-packages (from flake8>=3.9.0->-r requirements.txt (line 34)) (3.2.0)\n",
      "Requirement already satisfied: mdurl~=0.1 in /opt/conda/lib/python3.12/site-packages (from markdown-it-py>=2.2.0->rich<15.0.0,>=14.0.0->sagemaker-core<2.0.0,>=1.0.17->sagemaker>=2.100.0->-r requirements.txt (line 24)) (0.1.2)\n",
      "Requirement already satisfied: certifi in /opt/conda/lib/python3.12/site-packages (from pyogrio>=0.7.2->geopandas>=0.10.0->-r requirements.txt (line 14)) (2025.4.26)\n",
      "Requirement already satisfied: charset_normalizer<4,>=2 in /opt/conda/lib/python3.12/site-packages (from requests->sagemaker>=2.100.0->-r requirements.txt (line 24)) (3.4.2)\n",
      "Requirement already satisfied: idna<4,>=2.5 in /opt/conda/lib/python3.12/site-packages (from requests->sagemaker>=2.100.0->-r requirements.txt (line 24)) (3.10)\n",
      "Requirement already satisfied: starlette<0.47.0,>=0.40.0 in /opt/conda/lib/python3.12/site-packages (from fastapi->sagemaker>=2.100.0->-r requirements.txt (line 24)) (0.46.2)\n",
      "Requirement already satisfied: anyio<5,>=3.6.2 in /opt/conda/lib/python3.12/site-packages (from starlette<0.47.0,>=0.40.0->fastapi->sagemaker>=2.100.0->-r requirements.txt (line 24)) (4.9.0)\n",
      "Requirement already satisfied: sniffio>=1.1 in /opt/conda/lib/python3.12/site-packages (from anyio<5,>=3.6.2->starlette<0.47.0,>=0.40.0->fastapi->sagemaker>=2.100.0->-r requirements.txt (line 24)) (1.3.1)\n",
      "Requirement already satisfied: comm>=0.1.1 in /opt/conda/lib/python3.12/site-packages (from ipykernel->jupyter>=1.0.0->-r requirements.txt (line 31)) (0.2.2)\n",
      "Requirement already satisfied: debugpy>=1.6.5 in /opt/conda/lib/python3.12/site-packages (from ipykernel->jupyter>=1.0.0->-r requirements.txt (line 31)) (1.8.14)\n",
      "Requirement already satisfied: ipython>=7.23.1 in /opt/conda/lib/python3.12/site-packages (from ipykernel->jupyter>=1.0.0->-r requirements.txt (line 31)) (8.36.0)\n",
      "Requirement already satisfied: jupyter-client>=6.1.12 in /opt/conda/lib/python3.12/site-packages (from ipykernel->jupyter>=1.0.0->-r requirements.txt (line 31)) (8.6.3)\n",
      "Requirement already satisfied: jupyter-core!=5.0.*,>=4.12 in /opt/conda/lib/python3.12/site-packages (from ipykernel->jupyter>=1.0.0->-r requirements.txt (line 31)) (5.8.1)\n",
      "Requirement already satisfied: matplotlib-inline>=0.1 in /opt/conda/lib/python3.12/site-packages (from ipykernel->jupyter>=1.0.0->-r requirements.txt (line 31)) (0.1.7)\n",
      "Requirement already satisfied: nest-asyncio in /opt/conda/lib/python3.12/site-packages (from ipykernel->jupyter>=1.0.0->-r requirements.txt (line 31)) (1.6.0)\n",
      "Requirement already satisfied: pyzmq>=24 in /opt/conda/lib/python3.12/site-packages (from ipykernel->jupyter>=1.0.0->-r requirements.txt (line 31)) (26.4.0)\n",
      "Requirement already satisfied: tornado>=6.1 in /opt/conda/lib/python3.12/site-packages (from ipykernel->jupyter>=1.0.0->-r requirements.txt (line 31)) (6.5.1)\n",
      "Requirement already satisfied: traitlets>=5.4.0 in /opt/conda/lib/python3.12/site-packages (from ipykernel->jupyter>=1.0.0->-r requirements.txt (line 31)) (5.14.3)\n",
      "Requirement already satisfied: decorator in /opt/conda/lib/python3.12/site-packages (from ipython>=7.23.1->ipykernel->jupyter>=1.0.0->-r requirements.txt (line 31)) (5.2.1)\n",
      "Requirement already satisfied: jedi>=0.16 in /opt/conda/lib/python3.12/site-packages (from ipython>=7.23.1->ipykernel->jupyter>=1.0.0->-r requirements.txt (line 31)) (0.19.2)\n",
      "Requirement already satisfied: pexpect>4.3 in /opt/conda/lib/python3.12/site-packages (from ipython>=7.23.1->ipykernel->jupyter>=1.0.0->-r requirements.txt (line 31)) (4.9.0)\n",
      "Requirement already satisfied: prompt_toolkit<3.1.0,>=3.0.41 in /opt/conda/lib/python3.12/site-packages (from ipython>=7.23.1->ipykernel->jupyter>=1.0.0->-r requirements.txt (line 31)) (3.0.51)\n",
      "Requirement already satisfied: stack_data in /opt/conda/lib/python3.12/site-packages (from ipython>=7.23.1->ipykernel->jupyter>=1.0.0->-r requirements.txt (line 31)) (0.6.3)\n",
      "Requirement already satisfied: wcwidth in /opt/conda/lib/python3.12/site-packages (from prompt_toolkit<3.1.0,>=3.0.41->ipython>=7.23.1->ipykernel->jupyter>=1.0.0->-r requirements.txt (line 31)) (0.2.13)\n",
      "Requirement already satisfied: parso<0.9.0,>=0.8.4 in /opt/conda/lib/python3.12/site-packages (from jedi>=0.16->ipython>=7.23.1->ipykernel->jupyter>=1.0.0->-r requirements.txt (line 31)) (0.8.4)\n",
      "Requirement already satisfied: ptyprocess>=0.5 in /opt/conda/lib/python3.12/site-packages (from pexpect>4.3->ipython>=7.23.1->ipykernel->jupyter>=1.0.0->-r requirements.txt (line 31)) (0.7.0)\n",
      "Requirement already satisfied: widgetsnbextension~=4.0.14 in /opt/conda/lib/python3.12/site-packages (from ipywidgets->jupyter>=1.0.0->-r requirements.txt (line 31)) (4.0.14)\n",
      "Requirement already satisfied: jupyterlab_widgets~=3.0.15 in /opt/conda/lib/python3.12/site-packages (from ipywidgets->jupyter>=1.0.0->-r requirements.txt (line 31)) (3.0.15)\n",
      "Requirement already satisfied: async-lru>=1.0.0 in /opt/conda/lib/python3.12/site-packages (from jupyterlab->jupyter>=1.0.0->-r requirements.txt (line 31)) (2.0.5)\n",
      "Requirement already satisfied: httpx>=0.25.0 in /opt/conda/lib/python3.12/site-packages (from jupyterlab->jupyter>=1.0.0->-r requirements.txt (line 31)) (0.28.1)\n",
      "Requirement already satisfied: jinja2>=3.0.3 in /opt/conda/lib/python3.12/site-packages (from jupyterlab->jupyter>=1.0.0->-r requirements.txt (line 31)) (3.1.6)\n",
      "Requirement already satisfied: jupyter-lsp>=2.0.0 in /opt/conda/lib/python3.12/site-packages (from jupyterlab->jupyter>=1.0.0->-r requirements.txt (line 31)) (2.2.5)\n",
      "Requirement already satisfied: jupyter-server<3,>=2.4.0 in /opt/conda/lib/python3.12/site-packages (from jupyterlab->jupyter>=1.0.0->-r requirements.txt (line 31)) (2.16.0)\n",
      "Requirement already satisfied: jupyterlab-server<3,>=2.27.1 in /opt/conda/lib/python3.12/site-packages (from jupyterlab->jupyter>=1.0.0->-r requirements.txt (line 31)) (2.27.3)\n",
      "Requirement already satisfied: notebook-shim>=0.2 in /opt/conda/lib/python3.12/site-packages (from jupyterlab->jupyter>=1.0.0->-r requirements.txt (line 31)) (0.2.4)\n",
      "Requirement already satisfied: setuptools>=41.1.0 in /opt/conda/lib/python3.12/site-packages (from jupyterlab->jupyter>=1.0.0->-r requirements.txt (line 31)) (80.8.0)\n",
      "Requirement already satisfied: argon2-cffi>=21.1 in /opt/conda/lib/python3.12/site-packages (from jupyter-server<3,>=2.4.0->jupyterlab->jupyter>=1.0.0->-r requirements.txt (line 31)) (23.1.0)\n",
      "Requirement already satisfied: jupyter-events>=0.11.0 in /opt/conda/lib/python3.12/site-packages (from jupyter-server<3,>=2.4.0->jupyterlab->jupyter>=1.0.0->-r requirements.txt (line 31)) (0.12.0)\n",
      "Requirement already satisfied: jupyter-server-terminals>=0.4.4 in /opt/conda/lib/python3.12/site-packages (from jupyter-server<3,>=2.4.0->jupyterlab->jupyter>=1.0.0->-r requirements.txt (line 31)) (0.5.3)\n",
      "Requirement already satisfied: nbformat>=5.3.0 in /opt/conda/lib/python3.12/site-packages (from jupyter-server<3,>=2.4.0->jupyterlab->jupyter>=1.0.0->-r requirements.txt (line 31)) (5.10.4)\n",
      "Requirement already satisfied: overrides>=5.0 in /opt/conda/lib/python3.12/site-packages (from jupyter-server<3,>=2.4.0->jupyterlab->jupyter>=1.0.0->-r requirements.txt (line 31)) (7.7.0)\n",
      "Requirement already satisfied: prometheus-client>=0.9 in /opt/conda/lib/python3.12/site-packages (from jupyter-server<3,>=2.4.0->jupyterlab->jupyter>=1.0.0->-r requirements.txt (line 31)) (0.22.0)\n",
      "Requirement already satisfied: send2trash>=1.8.2 in /opt/conda/lib/python3.12/site-packages (from jupyter-server<3,>=2.4.0->jupyterlab->jupyter>=1.0.0->-r requirements.txt (line 31)) (1.8.3)\n",
      "Requirement already satisfied: terminado>=0.8.3 in /opt/conda/lib/python3.12/site-packages (from jupyter-server<3,>=2.4.0->jupyterlab->jupyter>=1.0.0->-r requirements.txt (line 31)) (0.18.1)\n",
      "Requirement already satisfied: websocket-client>=1.7 in /opt/conda/lib/python3.12/site-packages (from jupyter-server<3,>=2.4.0->jupyterlab->jupyter>=1.0.0->-r requirements.txt (line 31)) (1.8.0)\n",
      "Requirement already satisfied: babel>=2.10 in /opt/conda/lib/python3.12/site-packages (from jupyterlab-server<3,>=2.27.1->jupyterlab->jupyter>=1.0.0->-r requirements.txt (line 31)) (2.17.0)\n",
      "Requirement already satisfied: json5>=0.9.0 in /opt/conda/lib/python3.12/site-packages (from jupyterlab-server<3,>=2.27.1->jupyterlab->jupyter>=1.0.0->-r requirements.txt (line 31)) (0.12.0)\n",
      "Requirement already satisfied: argon2-cffi-bindings in /opt/conda/lib/python3.12/site-packages (from argon2-cffi>=21.1->jupyter-server<3,>=2.4.0->jupyterlab->jupyter>=1.0.0->-r requirements.txt (line 31)) (21.2.0)\n",
      "Requirement already satisfied: httpcore==1.* in /opt/conda/lib/python3.12/site-packages (from httpx>=0.25.0->jupyterlab->jupyter>=1.0.0->-r requirements.txt (line 31)) (1.0.9)\n",
      "Requirement already satisfied: h11>=0.16 in /opt/conda/lib/python3.12/site-packages (from httpcore==1.*->httpx>=0.25.0->jupyterlab->jupyter>=1.0.0->-r requirements.txt (line 31)) (0.16.0)\n",
      "Requirement already satisfied: MarkupSafe>=2.0 in /opt/conda/lib/python3.12/site-packages (from jinja2>=3.0.3->jupyterlab->jupyter>=1.0.0->-r requirements.txt (line 31)) (3.0.2)\n",
      "Requirement already satisfied: python-json-logger>=2.0.4 in /opt/conda/lib/python3.12/site-packages (from jupyter-events>=0.11.0->jupyter-server<3,>=2.4.0->jupyterlab->jupyter>=1.0.0->-r requirements.txt (line 31)) (2.0.7)\n",
      "Requirement already satisfied: rfc3339-validator in /opt/conda/lib/python3.12/site-packages (from jupyter-events>=0.11.0->jupyter-server<3,>=2.4.0->jupyterlab->jupyter>=1.0.0->-r requirements.txt (line 31)) (0.1.4)\n",
      "Requirement already satisfied: rfc3986-validator>=0.1.1 in /opt/conda/lib/python3.12/site-packages (from jupyter-events>=0.11.0->jupyter-server<3,>=2.4.0->jupyterlab->jupyter>=1.0.0->-r requirements.txt (line 31)) (0.1.1)\n",
      "Requirement already satisfied: fqdn in /opt/conda/lib/python3.12/site-packages (from jsonschema[format-nongpl]>=4.18.0->jupyter-events>=0.11.0->jupyter-server<3,>=2.4.0->jupyterlab->jupyter>=1.0.0->-r requirements.txt (line 31)) (1.5.1)\n",
      "Requirement already satisfied: isoduration in /opt/conda/lib/python3.12/site-packages (from jsonschema[format-nongpl]>=4.18.0->jupyter-events>=0.11.0->jupyter-server<3,>=2.4.0->jupyterlab->jupyter>=1.0.0->-r requirements.txt (line 31)) (20.11.0)\n",
      "Requirement already satisfied: jsonpointer>1.13 in /opt/conda/lib/python3.12/site-packages (from jsonschema[format-nongpl]>=4.18.0->jupyter-events>=0.11.0->jupyter-server<3,>=2.4.0->jupyterlab->jupyter>=1.0.0->-r requirements.txt (line 31)) (3.0.0)\n",
      "Requirement already satisfied: uri-template in /opt/conda/lib/python3.12/site-packages (from jsonschema[format-nongpl]>=4.18.0->jupyter-events>=0.11.0->jupyter-server<3,>=2.4.0->jupyterlab->jupyter>=1.0.0->-r requirements.txt (line 31)) (1.3.0)\n",
      "Requirement already satisfied: webcolors>=24.6.0 in /opt/conda/lib/python3.12/site-packages (from jsonschema[format-nongpl]>=4.18.0->jupyter-events>=0.11.0->jupyter-server<3,>=2.4.0->jupyterlab->jupyter>=1.0.0->-r requirements.txt (line 31)) (24.11.1)\n",
      "Requirement already satisfied: beautifulsoup4 in /opt/conda/lib/python3.12/site-packages (from nbconvert->jupyter>=1.0.0->-r requirements.txt (line 31)) (4.13.4)\n",
      "Requirement already satisfied: bleach!=5.0.0 in /opt/conda/lib/python3.12/site-packages (from bleach[css]!=5.0.0->nbconvert->jupyter>=1.0.0->-r requirements.txt (line 31)) (6.2.0)\n",
      "Requirement already satisfied: defusedxml in /opt/conda/lib/python3.12/site-packages (from nbconvert->jupyter>=1.0.0->-r requirements.txt (line 31)) (0.7.1)\n",
      "Requirement already satisfied: jupyterlab-pygments in /opt/conda/lib/python3.12/site-packages (from nbconvert->jupyter>=1.0.0->-r requirements.txt (line 31)) (0.3.0)\n",
      "Requirement already satisfied: mistune<4,>=2.0.3 in /opt/conda/lib/python3.12/site-packages (from nbconvert->jupyter>=1.0.0->-r requirements.txt (line 31)) (3.1.3)\n",
      "Requirement already satisfied: nbclient>=0.5.0 in /opt/conda/lib/python3.12/site-packages (from nbconvert->jupyter>=1.0.0->-r requirements.txt (line 31)) (0.10.2)\n",
      "Requirement already satisfied: pandocfilters>=1.4.1 in /opt/conda/lib/python3.12/site-packages (from nbconvert->jupyter>=1.0.0->-r requirements.txt (line 31)) (1.5.0)\n",
      "Requirement already satisfied: webencodings in /opt/conda/lib/python3.12/site-packages (from bleach!=5.0.0->bleach[css]!=5.0.0->nbconvert->jupyter>=1.0.0->-r requirements.txt (line 31)) (0.5.1)\n",
      "Requirement already satisfied: tinycss2<1.5,>=1.1.0 in /opt/conda/lib/python3.12/site-packages (from bleach[css]!=5.0.0->nbconvert->jupyter>=1.0.0->-r requirements.txt (line 31)) (1.4.0)\n",
      "Requirement already satisfied: fastjsonschema>=2.15 in /opt/conda/lib/python3.12/site-packages (from nbformat>=5.3.0->jupyter-server<3,>=2.4.0->jupyterlab->jupyter>=1.0.0->-r requirements.txt (line 31)) (2.21.1)\n",
      "Requirement already satisfied: cffi>=1.0.1 in /opt/conda/lib/python3.12/site-packages (from argon2-cffi-bindings->argon2-cffi>=21.1->jupyter-server<3,>=2.4.0->jupyterlab->jupyter>=1.0.0->-r requirements.txt (line 31)) (1.17.1)\n",
      "Requirement already satisfied: pycparser in /opt/conda/lib/python3.12/site-packages (from cffi>=1.0.1->argon2-cffi-bindings->argon2-cffi>=21.1->jupyter-server<3,>=2.4.0->jupyterlab->jupyter>=1.0.0->-r requirements.txt (line 31)) (2.22)\n",
      "Requirement already satisfied: soupsieve>1.2 in /opt/conda/lib/python3.12/site-packages (from beautifulsoup4->nbconvert->jupyter>=1.0.0->-r requirements.txt (line 31)) (2.7)\n",
      "Requirement already satisfied: arrow>=0.15.0 in /opt/conda/lib/python3.12/site-packages (from isoduration->jsonschema[format-nongpl]>=4.18.0->jupyter-events>=0.11.0->jupyter-server<3,>=2.4.0->jupyterlab->jupyter>=1.0.0->-r requirements.txt (line 31)) (1.3.0)\n",
      "Requirement already satisfied: types-python-dateutil>=2.8.10 in /opt/conda/lib/python3.12/site-packages (from arrow>=0.15.0->isoduration->jsonschema[format-nongpl]>=4.18.0->jupyter-events>=0.11.0->jupyter-server<3,>=2.4.0->jupyterlab->jupyter>=1.0.0->-r requirements.txt (line 31)) (2.9.0.20250516)\n",
      "Requirement already satisfied: ppft>=1.7.7 in /opt/conda/lib/python3.12/site-packages (from pathos->sagemaker>=2.100.0->-r requirements.txt (line 24)) (1.7.7)\n",
      "Requirement already satisfied: dill>=0.4.0 in /opt/conda/lib/python3.12/site-packages (from pathos->sagemaker>=2.100.0->-r requirements.txt (line 24)) (0.4.0)\n",
      "Requirement already satisfied: pox>=0.3.6 in /opt/conda/lib/python3.12/site-packages (from pathos->sagemaker>=2.100.0->-r requirements.txt (line 24)) (0.3.6)\n",
      "Requirement already satisfied: multiprocess>=0.70.18 in /opt/conda/lib/python3.12/site-packages (from pathos->sagemaker>=2.100.0->-r requirements.txt (line 24)) (0.70.18)\n",
      "Requirement already satisfied: narwhals>=1.15.1 in /opt/conda/lib/python3.12/site-packages (from plotly->catboost>=1.0.0->-r requirements.txt (line 10)) (1.41.0)\n",
      "Requirement already satisfied: executing>=1.2.0 in /opt/conda/lib/python3.12/site-packages (from stack_data->ipython>=7.23.1->ipykernel->jupyter>=1.0.0->-r requirements.txt (line 31)) (2.2.0)\n",
      "Requirement already satisfied: asttokens>=2.1.0 in /opt/conda/lib/python3.12/site-packages (from stack_data->ipython>=7.23.1->ipykernel->jupyter>=1.0.0->-r requirements.txt (line 31)) (3.0.0)\n",
      "Requirement already satisfied: pure_eval in /opt/conda/lib/python3.12/site-packages (from stack_data->ipython>=7.23.1->ipykernel->jupyter>=1.0.0->-r requirements.txt (line 31)) (0.2.3)\n"
     ]
    }
   ],
   "source": [
    "!pip install -r requirements.txt"
   ]
  },
  {
   "cell_type": "code",
   "execution_count": 3,
   "id": "9f1e7d4e-9d06-412b-bbda-3582b2462b04",
   "metadata": {
    "execution": {
     "iopub.execute_input": "2025-07-09T16:59:14.312765Z",
     "iopub.status.busy": "2025-07-09T16:59:14.312516Z",
     "iopub.status.idle": "2025-07-09T16:59:15.985941Z",
     "shell.execute_reply": "2025-07-09T16:59:15.985191Z",
     "shell.execute_reply.started": "2025-07-09T16:59:14.312742Z"
    }
   },
   "outputs": [
    {
     "name": "stdout",
     "output_type": "stream",
     "text": [
      "Requirement already satisfied: pyyaml in /opt/conda/lib/python3.12/site-packages (6.0.2)\n"
     ]
    }
   ],
   "source": [
    "!pip install pyyaml\n",
    "import yaml\n",
    "\n",
    "# Load config\n",
    "with open('config/config.yaml', 'r') as f:\n",
    "    config = yaml.safe_load(f)\n",
    "\n",
    "# Update with your role ARN\n",
    "config['pipeline']['role_arn'] = 'arn:aws:iam::976193228014:role/SageMakerExecutionRole'\n",
    "\n",
    "# Save updated config\n",
    "with open('config/config.yaml', 'w') as f:\n",
    "    yaml.dump(config, f)\n",
    "\n"
   ]
  },
  {
   "cell_type": "code",
   "execution_count": 4,
   "id": "c24b51a9-7bb3-4014-91ef-e661cc8c6685",
   "metadata": {
    "execution": {
     "iopub.execute_input": "2025-07-09T16:59:15.990940Z",
     "iopub.status.busy": "2025-07-09T16:59:15.988904Z",
     "iopub.status.idle": "2025-07-09T16:59:21.454995Z",
     "shell.execute_reply": "2025-07-09T16:59:21.454168Z",
     "shell.execute_reply.started": "2025-07-09T16:59:15.990896Z"
    }
   },
   "outputs": [
    {
     "name": "stdout",
     "output_type": "stream",
     "text": [
      "sagemaker.config INFO - Not applying SDK defaults from location: /etc/xdg/sagemaker/config.yaml\n",
      "sagemaker.config INFO - Not applying SDK defaults from location: /home/sagemaker-user/.config/sagemaker/config.yaml\n"
     ]
    },
    {
     "name": "stderr",
     "output_type": "stream",
     "text": [
      "INFO:sagemaker.image_uris:Defaulting to only available Python version: py3\n",
      "INFO:sagemaker.image_uris:Defaulting to only available Python version: py3\n"
     ]
    },
    {
     "name": "stdout",
     "output_type": "stream",
     "text": [
      "DEBUG: Local contents of config/\n",
      " - config.yaml\n",
      " - model_config.yaml\n",
      " - feature_config.yaml\n",
      " - .ipynb_checkpoints\n",
      "2025-07-09 16:59:18,421 - pipeline_orchestrator - INFO - Conditional registration set with F1 threshold: 0.7\n"
     ]
    },
    {
     "name": "stderr",
     "output_type": "stream",
     "text": [
      "INFO:pipeline_orchestrator:Conditional registration set with F1 threshold: 0.7\n",
      "WARNING:sagemaker.workflow.utilities:Popping out 'ProcessingJobName' from the pipeline definition by default since it will be overridden at pipeline execution time. Please utilize the PipelineDefinitionConfig to persist this field in the pipeline definition if desired.\n",
      "WARNING:sagemaker.workflow.utilities:Popping out 'TrainingJobName' from the pipeline definition by default since it will be overridden at pipeline execution time. Please utilize the PipelineDefinitionConfig to persist this field in the pipeline definition if desired.\n",
      "WARNING:sagemaker.workflow.utilities:Popping out 'ProcessingJobName' from the pipeline definition by default since it will be overridden at pipeline execution time. Please utilize the PipelineDefinitionConfig to persist this field in the pipeline definition if desired.\n",
      "WARNING:sagemaker.workflow.utilities:Popping out 'TrainingJobName' from the pipeline definition by default since it will be overridden at pipeline execution time. Please utilize the PipelineDefinitionConfig to persist this field in the pipeline definition if desired.\n",
      "WARNING:sagemaker.workflow._utils:Popping out 'CertifyForMarketplace' from the pipeline definition since it will be overridden in pipeline execution time.\n",
      "WARNING:sagemaker.workflow.utilities:Popping out 'ModelPackageName' from the pipeline definition by default since it will be overridden at pipeline execution time. Please utilize the PipelineDefinitionConfig to persist this field in the pipeline definition if desired.\n",
      "WARNING:sagemaker.workflow.utilities:Popping out 'ProcessingJobName' from the pipeline definition by default since it will be overridden at pipeline execution time. Please utilize the PipelineDefinitionConfig to persist this field in the pipeline definition if desired.\n",
      "WARNING:sagemaker.workflow.utilities:Popping out 'TrainingJobName' from the pipeline definition by default since it will be overridden at pipeline execution time. Please utilize the PipelineDefinitionConfig to persist this field in the pipeline definition if desired.\n",
      "WARNING:sagemaker.workflow.utilities:Popping out 'ProcessingJobName' from the pipeline definition by default since it will be overridden at pipeline execution time. Please utilize the PipelineDefinitionConfig to persist this field in the pipeline definition if desired.\n",
      "WARNING:sagemaker.workflow.utilities:Popping out 'TrainingJobName' from the pipeline definition by default since it will be overridden at pipeline execution time. Please utilize the PipelineDefinitionConfig to persist this field in the pipeline definition if desired.\n",
      "WARNING:sagemaker.workflow._utils:Popping out 'CertifyForMarketplace' from the pipeline definition since it will be overridden in pipeline execution time.\n",
      "WARNING:sagemaker.workflow.utilities:Popping out 'ModelPackageName' from the pipeline definition by default since it will be overridden at pipeline execution time. Please utilize the PipelineDefinitionConfig to persist this field in the pipeline definition if desired.\n"
     ]
    },
    {
     "name": "stdout",
     "output_type": "stream",
     "text": [
      "2025-07-09 16:59:21,374 - pipeline_orchestrator - INFO - Pipeline execution started: arn:aws:sagemaker:us-east-1:976193228014:pipeline/crime-hotspot-pipeline/execution/ea7h79kpyz3l\n"
     ]
    },
    {
     "name": "stderr",
     "output_type": "stream",
     "text": [
      "INFO:pipeline_orchestrator:Pipeline execution started: arn:aws:sagemaker:us-east-1:976193228014:pipeline/crime-hotspot-pipeline/execution/ea7h79kpyz3l\n"
     ]
    },
    {
     "name": "stdout",
     "output_type": "stream",
     "text": [
      "Pipeline started: arn:aws:sagemaker:us-east-1:976193228014:pipeline/crime-hotspot-pipeline/execution/ea7h79kpyz3l\n"
     ]
    }
   ],
   "source": [
    "from pipeline_main import CrimeHotspotPipeline\n",
    "import os\n",
    "script_path = os.path.abspath(\"processing.py\")\n",
    "# Initialize pipeline\n",
    "pipeline = CrimeHotspotPipeline('config/config.yaml', script_path)\n",
    "\n",
    "# Start pipeline execution\n",
    "execution = pipeline.run_pipeline(wait=False)\n",
    "print(f\"Pipeline started: {execution['PipelineExecutionArn']}\")"
   ]
  },
  {
   "cell_type": "code",
   "execution_count": 6,
   "id": "77c1a2ae-1148-4a05-a9f1-669f395c23af",
   "metadata": {
    "execution": {
     "iopub.execute_input": "2025-07-09T17:01:44.290400Z",
     "iopub.status.busy": "2025-07-09T17:01:44.289782Z",
     "iopub.status.idle": "2025-07-09T17:01:44.295878Z",
     "shell.execute_reply": "2025-07-09T17:01:44.295226Z",
     "shell.execute_reply.started": "2025-07-09T17:01:44.290371Z"
    }
   },
   "outputs": [
    {
     "name": "stdout",
     "output_type": "stream",
     "text": [
      "Help on class RegisterModel in module sagemaker.workflow.step_collections:\n",
      "\n",
      "class RegisterModel(StepCollection)\n",
      " |  RegisterModel(name: str, content_types, response_types, inference_instances=None, transform_instances=None, estimator: Optional[sagemaker.estimator.EstimatorBase] = None, model_data=None, depends_on: Optional[List[Union[str, sagemaker.workflow.steps.Step, sagemaker.workflow.step_collections.StepCollection]]] = None, repack_model_step_retry_policies: Optional[List[sagemaker.workflow.retry.RetryPolicy]] = None, register_model_step_retry_policies: Optional[List[sagemaker.workflow.retry.RetryPolicy]] = None, model_package_group_name=None, model_metrics=None, approval_status=None, image_uri=None, compile_model_family=None, display_name=None, description=None, tags=None, model: Union[sagemaker.model.Model, sagemaker.pipeline.PipelineModel, NoneType] = None, drift_check_baselines=None, customer_metadata_properties=None, domain=None, sample_payload_url=None, task=None, framework=None, framework_version=None, nearest_model_name=None, data_input_configuration=None, skip_model_validation=None, source_uri=None, model_card=None, model_life_cycle=None, **kwargs)\n",
      " |\n",
      " |  Register Model step collection for workflow.\n",
      " |\n",
      " |  Method resolution order:\n",
      " |      RegisterModel\n",
      " |      StepCollection\n",
      " |      builtins.object\n",
      " |\n",
      " |  Methods defined here:\n",
      " |\n",
      " |  __init__(self, name: str, content_types, response_types, inference_instances=None, transform_instances=None, estimator: Optional[sagemaker.estimator.EstimatorBase] = None, model_data=None, depends_on: Optional[List[Union[str, sagemaker.workflow.steps.Step, sagemaker.workflow.step_collections.StepCollection]]] = None, repack_model_step_retry_policies: Optional[List[sagemaker.workflow.retry.RetryPolicy]] = None, register_model_step_retry_policies: Optional[List[sagemaker.workflow.retry.RetryPolicy]] = None, model_package_group_name=None, model_metrics=None, approval_status=None, image_uri=None, compile_model_family=None, display_name=None, description=None, tags=None, model: Union[sagemaker.model.Model, sagemaker.pipeline.PipelineModel, NoneType] = None, drift_check_baselines=None, customer_metadata_properties=None, domain=None, sample_payload_url=None, task=None, framework=None, framework_version=None, nearest_model_name=None, data_input_configuration=None, skip_model_validation=None, source_uri=None, model_card=None, model_life_cycle=None, **kwargs)\n",
      " |      Construct steps `_RepackModelStep` and `_RegisterModelStep` based on the estimator.\n",
      " |\n",
      " |      Args:\n",
      " |          name (str): The name of the training step.\n",
      " |          estimator: The estimator instance.\n",
      " |          model_data: The S3 uri to the model data from training.\n",
      " |          content_types (list): The supported MIME types for the input data (default: None).\n",
      " |          response_types (list): The supported MIME types for the output data (default: None).\n",
      " |          inference_instances (list): A list of the instance types that are used to\n",
      " |              generate inferences in real-time (default: None).\n",
      " |          transform_instances (list): A list of the instance types on which a transformation\n",
      " |              job can be run or on which an endpoint can be deployed (default: None).\n",
      " |          depends_on (List[Union[str, Step, StepCollection]]): The list of `Step`/`StepCollection`\n",
      " |              names or `Step` instances or `StepCollection` instances that the first step\n",
      " |              in the collection depends on (default: None).\n",
      " |          repack_model_step_retry_policies (List[RetryPolicy]): The list of retry policies\n",
      " |              for the repack model step\n",
      " |          register_model_step_retry_policies (List[RetryPolicy]): The list of retry policies\n",
      " |              for register model step\n",
      " |          model_package_group_name (str): The Model Package Group name or Arn, exclusive to\n",
      " |              `model_package_name`, using `model_package_group_name` makes the Model Package\n",
      " |              versioned (default: None).\n",
      " |          model_metrics (ModelMetrics): ModelMetrics object (default: None).\n",
      " |          approval_status (str): Model Approval Status, values can be \"Approved\", \"Rejected\",\n",
      " |              or \"PendingManualApproval\" (default: \"PendingManualApproval\").\n",
      " |          image_uri (str): The container image uri for Model Package, if not specified,\n",
      " |              Estimator's training container image is used (default: None).\n",
      " |          compile_model_family (str): The instance family for the compiled model. If\n",
      " |              specified, a compiled model is used (default: None).\n",
      " |          description (str): Model Package description (default: None).\n",
      " |          tags (Optional[Tags]): The list of tags to attach to the model package group. Note\n",
      " |              that tags will only be applied to newly created model package groups; if the\n",
      " |              name of an existing group is passed to \"model_package_group_name\",\n",
      " |              tags will not be applied.\n",
      " |          model (object or Model): A PipelineModel object that comprises a list of models\n",
      " |              which gets executed as a serial inference pipeline or a Model object.\n",
      " |          drift_check_baselines (DriftCheckBaselines): DriftCheckBaselines object (default: None).\n",
      " |          customer_metadata_properties (dict[str, str]): A dictionary of key-value paired\n",
      " |              metadata properties (default: None).\n",
      " |          domain (str): Domain values can be \"COMPUTER_VISION\", \"NATURAL_LANGUAGE_PROCESSING\",\n",
      " |              \"MACHINE_LEARNING\" (default: None).\n",
      " |          sample_payload_url (str): The S3 path where the sample payload is stored\n",
      " |              (default: None).\n",
      " |          task (str): Task values which are supported by Inference Recommender are \"FILL_MASK\",\n",
      " |              \"IMAGE_CLASSIFICATION\", \"OBJECT_DETECTION\", \"TEXT_GENERATION\", \"IMAGE_SEGMENTATION\",\n",
      " |              \"CLASSIFICATION\", \"REGRESSION\", \"OTHER\" (default: None).\n",
      " |          framework (str): Machine learning framework of the model package container image\n",
      " |              (default: None).\n",
      " |          framework_version (str): Framework version of the Model Package Container Image\n",
      " |              (default: None).\n",
      " |          nearest_model_name (str): Name of a pre-trained machine learning benchmarked by\n",
      " |              Amazon SageMaker Inference Recommender (default: None).\n",
      " |          data_input_configuration (str): Input object for the model (default: None).\n",
      " |          skip_model_validation (str): Indicates if you want to skip model\n",
      " |              validation. Values can be \"All\" or \"None\" (default: None).\n",
      " |          source_uri (str): The URI of the source for the model package (default: None).\n",
      " |          model_card (ModeCard or ModelPackageModelCard): document contains qualitative and\n",
      " |              quantitative information about a model (default: None).\n",
      " |          model_life_cycle (ModelLifeCycle): ModelLifeCycle object (default: None).\n",
      " |          **kwargs: additional arguments to `create_model`.\n",
      " |\n",
      " |  ----------------------------------------------------------------------\n",
      " |  Data and other attributes defined here:\n",
      " |\n",
      " |  __annotations__ = {}\n",
      " |\n",
      " |  ----------------------------------------------------------------------\n",
      " |  Methods inherited from StepCollection:\n",
      " |\n",
      " |  __eq__(self, other)\n",
      " |      Method generated by attrs for class StepCollection.\n",
      " |\n",
      " |  __ge__(self, other)\n",
      " |      Method generated by attrs for class StepCollection.\n",
      " |\n",
      " |  __gt__(self, other)\n",
      " |      Method generated by attrs for class StepCollection.\n",
      " |\n",
      " |  __le__(self, other)\n",
      " |      Method generated by attrs for class StepCollection.\n",
      " |\n",
      " |  __lt__(self, other)\n",
      " |      Method generated by attrs for class StepCollection.\n",
      " |\n",
      " |  __ne__(self, other)\n",
      " |      Method generated by attrs for class StepCollection.\n",
      " |\n",
      " |  __repr__(self)\n",
      " |      Method generated by attrs for class StepCollection.\n",
      " |\n",
      " |  request_dicts(self) -> List[Union[Dict[str, Any], List[Dict[str, Any]]]]\n",
      " |      Get the request structure for workflow service calls.\n",
      " |\n",
      " |  ----------------------------------------------------------------------\n",
      " |  Readonly properties inherited from StepCollection:\n",
      " |\n",
      " |  properties\n",
      " |      The properties of the particular `StepCollection`.\n",
      " |\n",
      " |  ----------------------------------------------------------------------\n",
      " |  Data descriptors inherited from StepCollection:\n",
      " |\n",
      " |  __dict__\n",
      " |      dictionary for instance variables\n",
      " |\n",
      " |  __weakref__\n",
      " |      list of weak references to the object\n",
      " |\n",
      " |  ----------------------------------------------------------------------\n",
      " |  Data and other attributes inherited from StepCollection:\n",
      " |\n",
      " |  __attrs_attrs__ = (Attribute(name='name', default=NOTHING, validat...i...\n",
      " |\n",
      " |  __hash__ = None\n",
      " |\n",
      " |  __match_args__ = ('name', 'steps', 'depends_on')\n",
      "\n"
     ]
    }
   ],
   "source": [
    "from sagemaker.workflow.step_collections import RegisterModel\n",
    "help(RegisterModel)"
   ]
  },
  {
   "cell_type": "code",
   "execution_count": null,
   "id": "52531ddc-5ce2-45a0-87bc-9fa3e518d7bc",
   "metadata": {},
   "outputs": [],
   "source": [
    "from sagemaker.model_metrics import ModelMetrics, MetricsSource\n"
   ]
  },
  {
   "cell_type": "code",
   "execution_count": null,
   "id": "dd6ea5b0",
   "metadata": {},
   "outputs": [],
   "source": [
    "help(ModelMetrics)\n"
   ]
  },
  {
   "cell_type": "code",
   "execution_count": null,
   "id": "81322366",
   "metadata": {},
   "outputs": [],
   "source": [
    "aws s3 ls s3://finalproject-mlc-301/Crime_Hotspot_Prediction/Data/Raw_data/"
   ]
  },
  {
   "cell_type": "code",
   "execution_count": null,
   "id": "4b2b0941",
   "metadata": {},
   "outputs": [],
   "source": [
    "ls scripts/\n"
   ]
  },
  {
   "cell_type": "code",
   "execution_count": null,
   "id": "ba5133c9-6e63-478a-9f12-c4756ecdb0ed",
   "metadata": {},
   "outputs": [],
   "source": [
    "ls scripts/requirements.txt\n"
   ]
  },
  {
   "cell_type": "code",
   "execution_count": null,
   "id": "b17e4e21-e479-4d13-be84-2dfd65abf68e",
   "metadata": {},
   "outputs": [],
   "source": [
    "pwd\n"
   ]
  },
  {
   "cell_type": "code",
   "execution_count": null,
   "id": "6bd168c1-add7-4e0e-89a7-78a6bf591ae3",
   "metadata": {},
   "outputs": [],
   "source": [
    "!pwd\n"
   ]
  },
  {
   "cell_type": "code",
   "execution_count": null,
   "id": "31115d97-44d3-4b37-8b66-57072f5cc9dd",
   "metadata": {},
   "outputs": [],
   "source": [
    "!ls config/"
   ]
  },
  {
   "cell_type": "code",
   "execution_count": null,
   "id": "d1870448-7e2a-4b41-9d5b-bb0616cf3b9f",
   "metadata": {},
   "outputs": [],
   "source": []
  }
 ],
 "metadata": {
  "kernelspec": {
   "display_name": "Python 3 (ipykernel)",
   "language": "python",
   "name": "python3"
  },
  "language_info": {
   "codemirror_mode": {
    "name": "ipython",
    "version": 3
   },
   "file_extension": ".py",
   "mimetype": "text/x-python",
   "name": "python",
   "nbconvert_exporter": "python",
   "pygments_lexer": "ipython3",
   "version": "3.12.9"
  }
 },
 "nbformat": 4,
 "nbformat_minor": 5
}
