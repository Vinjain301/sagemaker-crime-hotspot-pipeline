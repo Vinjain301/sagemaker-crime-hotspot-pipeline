{
 "cells": [
  {
   "cell_type": "code",
   "execution_count": null,
   "id": "855f0aa7-0c7f-4303-a9c2-13e5c1717d7c",
   "metadata": {},
   "outputs": [],
   "source": [
    "import os\n",
    "\n",
    "os.chdir(\"/home/sagemaker-user/crime_hotspot_pipeline\")\n",
    "print(\"Current working directory:\", os.getcwd())"
   ]
  },
  {
   "cell_type": "code",
   "execution_count": null,
   "id": "27b51473-3734-463e-a998-c8900541c7aa",
   "metadata": {},
   "outputs": [],
   "source": [
    "!pip install -r requirements.txt"
   ]
  },
  {
   "cell_type": "code",
   "execution_count": null,
   "id": "9f1e7d4e-9d06-412b-bbda-3582b2462b04",
   "metadata": {},
   "outputs": [],
   "source": [
    "!pip install pyyaml\n",
    "import yaml\n",
    "\n",
    "# Load config\n",
    "with open('config/config.yaml', 'r') as f:\n",
    "    config = yaml.safe_load(f)\n",
    "\n",
    "# Update with your role ARN\n",
    "config['pipeline']['role_arn'] = 'arn:aws:iam::[Your-ARN]:role/SageMakerExecutionRole'\n",
    "\n",
    "# Save updated config\n",
    "with open('config/config.yaml', 'w') as f:\n",
    "    yaml.dump(config, f)\n",
    "\n"
   ]
  },
  {
   "cell_type": "code",
   "execution_count": null,
   "id": "c24b51a9-7bb3-4014-91ef-e661cc8c6685",
   "metadata": {},
   "outputs": [],
   "source": [
    "from pipeline_main import CrimeHotspotPipeline\n",
    "import os\n",
    "script_path = os.path.abspath(\"processing.py\")\n",
    "# Initialize pipeline\n",
    "pipeline = CrimeHotspotPipeline('config/config.yaml', script_path)\n",
    "\n",
    "# Start pipeline execution\n",
    "execution = pipeline.run_pipeline(wait=False)\n",
    "print(f\"Pipeline started: {execution['PipelineExecutionArn']}\")"
   ]
  }
 ],
 "metadata": {
  "kernelspec": {
   "display_name": "Python 3 (ipykernel)",
   "language": "python",
   "name": "python3"
  },
  "language_info": {
   "codemirror_mode": {
    "name": "ipython",
    "version": 3
   },
   "file_extension": ".py",
   "mimetype": "text/x-python",
   "name": "python",
   "nbconvert_exporter": "python",
   "pygments_lexer": "ipython3",
   "version": "3.12.9"
  }
 },
 "nbformat": 4,
 "nbformat_minor": 5
}
